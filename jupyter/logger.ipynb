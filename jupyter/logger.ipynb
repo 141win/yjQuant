{
 "cells": [
  {
   "cell_type": "code",
   "execution_count": null,
   "id": "f6ab30dc-27e0-4333-bccc-334f52337265",
   "metadata": {},
   "outputs": [],
   "source": [
    "# from loguru import logger\n",
    "#\n",
    "# logger.add(\"email_system.log\", rotation=\"1 MB\", retention=\"7 days\")\n",
    "# logger.info(f\"学习使用loguru\")\n",
    "\n",
    "# 测试1 日志文件大小超过1MB会发生什么变化（执行什么操作）\n",
    "# from loguru import logger\n",
    "#\n",
    "# logger.add(\"email_system.log\", rotation=\"1 KB\", retention=\"5 minutes\")\n",
    "# while True:\n",
    "#     logger.info('hello')\n",
    "    #会在内存大小达到要求的日志文件后添加日期时间，时间是该文件的创建时间。因此无论中途是否断开连接，只要继续使用该日志文件并达到大小上限，则添加文件创建时间到文件名\n",
    "\n",
    "# 测试2 日志文件超过指定日期是否会删除？\n",
    "# from loguru import logger\n",
    "# import time\n",
    "#\n",
    "# logger.add(\"email_system.log\", rotation=\"1 KB\", retention=\"1 minutes\")\n",
    "# while True:\n",
    "#     logger.info(f'hello{time.strftime(\"%Y/%m/%d %H:%M:%S\")}')\n",
    "#     time.sleep(1)\n",
    "\n",
    "    # 会删除超过1分钟的文件\n",
    "\n",
    "# 测试3 如果系统指定日志文件最大1MB，中间停止重启，是否会接着使用，并且后续超过1MB是否会更新日志文件\n",
    "    # 会接着使用，后续超过1MB还会更新日志文件。\n",
    "\n",
    "    # 重要的文件信息：文件创建时间，只要文件创建时间与当前时间小于更新时间，且文件大小未达上限，则继续使用。"
   ]
  },
  {
   "cell_type": "code",
   "execution_count": 2,
   "id": "a05b5138-2607-4817-9436-415baac27dd6",
   "metadata": {},
   "outputs": [
    {
     "data": {
      "text/plain": [
       "<Logger __main__ (WARNING)>"
      ]
     },
     "execution_count": 2,
     "metadata": {},
     "output_type": "execute_result"
    }
   ],
   "source": [
    "import logging\n",
    "logger = logging.getLogger(__name__)\n",
    "logger\n",
    "from test2 import logger, print_log\n",
    "\n",
    "import logging\n",
    "\n",
    "logging.basicConfig(\n",
    "    level=logging.INFO,\n",
    "    format='%(asctime)s - %(name)s - %(levelname)s - %(message)s',\n",
    "    filename='app.log',  # 指定日志文件名称\n",
    "    filemode='a',\n",
    "    encoding=\"utf-8\",\n",
    ")\n",
    "logger.info(\"收到键盘中断信号\")\n",
    "print_log()"
   ]
  }
 ],
 "metadata": {
  "kernelspec": {
   "display_name": "Python 3 (ipykernel)",
   "language": "python",
   "name": "python3"
  },
  "language_info": {
   "codemirror_mode": {
    "name": "ipython",
    "version": 3
   },
   "file_extension": ".py",
   "mimetype": "text/x-python",
   "name": "python",
   "nbconvert_exporter": "python",
   "pygments_lexer": "ipython3",
   "version": "3.12.11"
  }
 },
 "nbformat": 4,
 "nbformat_minor": 5
}
