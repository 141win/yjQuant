{
 "cells": [
  {
   "cell_type": "code",
   "execution_count": 21,
   "id": "2d747dbc-f846-4943-8352-f765e7cc60c7",
   "metadata": {},
   "outputs": [
    {
     "data": {
      "text/plain": [
       "[(1, 5, 8), (2, 6, 9), (3, 7, 10)]"
      ]
     },
     "execution_count": 21,
     "metadata": {},
     "output_type": "execute_result"
    }
   ],
   "source": [
    "l1 = [1,2,3]\n",
    "l2 = [5,6,7]\n",
    "l3 = [8,9,10]\n",
    "\n",
    "l4 = zip(l1,l2,l3)\n",
    "l4\n",
    "list(l4)"
   ]
  },
  {
   "cell_type": "code",
   "execution_count": 31,
   "id": "8b864986-5799-494b-b291-f0287ae78132",
   "metadata": {},
   "outputs": [
    {
     "data": {
      "text/plain": [
       "[0.0, 0.0, 0.0, 0.0, 0.0, 0.0, 0.0, 0.0, 0.0, 0.0]"
      ]
     },
     "execution_count": 31,
     "metadata": {},
     "output_type": "execute_result"
    }
   ],
   "source": [
    "[0.]*10"
   ]
  },
  {
   "cell_type": "code",
   "execution_count": 1,
   "id": "396c8552-62a2-401c-a489-23ee70c38472",
   "metadata": {},
   "outputs": [
    {
     "data": {
      "text/plain": [
       "1000"
      ]
     },
     "execution_count": 1,
     "metadata": {},
     "output_type": "execute_result"
    }
   ],
   "source": [
    "puppy_vec = [1.0, 0.0] + [0.0] * 998\n",
    "len(puppy_vec)"
   ]
  },
  {
   "cell_type": "code",
   "execution_count": 5,
   "id": "6b8bd238-8d7c-4f26-b81f-348ca29264f3",
   "metadata": {},
   "outputs": [],
   "source": [
    "from enum import Enum\n",
    "class PriorityLevel(Enum):\n",
    "    \"\"\"邮件优先级枚举\"\"\"\n",
    "    LOW = \"low\"\n",
    "    NORMAL = \"normal\" \n",
    "    HIGH = \"high\""
   ]
  },
  {
   "cell_type": "code",
   "execution_count": 41,
   "id": "03f69f92-75a8-4c83-843d-dc54fa974df3",
   "metadata": {},
   "outputs": [
    {
     "data": {
      "text/plain": [
       "'low'"
      ]
     },
     "execution_count": 41,
     "metadata": {},
     "output_type": "execute_result"
    }
   ],
   "source": [
    "priority = PriorityLevel(\"high\")\n",
    "PriorityLevel.LOW\n",
    "PriorityLevel.LOW.name\n",
    "PriorityLevel.LOW.value"
   ]
  },
  {
   "cell_type": "code",
   "execution_count": 11,
   "id": "656fab92-816b-488b-b898-9191294769d7",
   "metadata": {},
   "outputs": [],
   "source": [
    "import collections\n",
    "class Delegate:\n",
    "    def __init__(self, name, delegated):\n",
    "        self.name = name\n",
    "        self.delegated = delegated\n",
    "\n",
    "    def __get__(self, instance, owner):\n",
    "        deque = getattr(instance, self.delegated)\n",
    "        return getattr(deque, self.name)"
   ]
  },
  {
   "cell_type": "code",
   "execution_count": 21,
   "id": "26adbbcf-a3ea-4a8f-9b48-187151212ea1",
   "metadata": {},
   "outputs": [
    {
     "data": {
      "text/plain": [
       "deque([1, 2, 3, 1])"
      ]
     },
     "execution_count": 21,
     "metadata": {},
     "output_type": "execute_result"
    }
   ],
   "source": [
    "class MyClass:\n",
    "    # delegated_attr 现在是一个描述符\n",
    "    delegated_attr = Delegate('append', '_internal_deque')\n",
    "    \n",
    "    def __init__(self):\n",
    "        self._internal_deque = collections.deque([1, 2, 3])\n",
    "\n",
    "obj = MyClass()\n",
    "# 以下调用会触发 __get__ 方法\n",
    "result = obj.delegated_attr  # 实际上调用 obj._internal_deque.some_method\n",
    "result(1)\n",
    "obj._internal_deque"
   ]
  },
  {
   "cell_type": "code",
   "execution_count": 7,
   "id": "adff8ac3-5572-48bf-bfde-8652485c6914",
   "metadata": {},
   "outputs": [
    {
     "name": "stdout",
     "output_type": "stream",
     "text": [
      "ForwardRef('BaseEngine')\n",
      "type[~EngineType]\n"
     ]
    }
   ],
   "source": [
    "from typing import TypeVar\n",
    "EngineType = TypeVar(\"EngineType\", bound=\"BaseEngine\")\n",
    "print(EngineType.__bound__)\n",
    "print(type[EngineType])"
   ]
  },
  {
   "cell_type": "code",
   "execution_count": 3,
   "id": "d2f71146-3914-461a-b42a-44c962afe832",
   "metadata": {},
   "outputs": [
    {
     "name": "stdout",
     "output_type": "stream",
     "text": [
      "3 4\n"
     ]
    }
   ],
   "source": [
    "s = [3,4]\n",
    "def test(a,b):\n",
    "    print(a,b)\n",
    "test(*s)"
   ]
  },
  {
   "cell_type": "code",
   "execution_count": 10,
   "id": "b82ee20d-ea0c-451a-91a9-fac7dbe669e2",
   "metadata": {},
   "outputs": [
    {
     "name": "stdout",
     "output_type": "stream",
     "text": [
      "{\"open\": 20.9, \"timestamp\": 134567}\n",
      "<class 'str'>\n",
      "{'open': 20.9, 'timestamp': 134567}\n",
      "<class 'dict'>\n"
     ]
    }
   ],
   "source": [
    "import json\n",
    "data = [{\"open\":20.9,\"timestamp\":134567}]\n",
    "item = data[0]\n",
    "value = json.dumps(item, ensure_ascii=False)\n",
    "print(value)\n",
    "print(type(value))\n",
    "print(json.loads(value))\n",
    "print(type(json.loads(value)))"
   ]
  },
  {
   "cell_type": "code",
   "execution_count": 13,
   "id": "81053322-329d-4b5e-b99f-f07e7d257b18",
   "metadata": {},
   "outputs": [
    {
     "name": "stdout",
     "output_type": "stream",
     "text": [
      "binance UTC Kline1\n",
      "gateio BTC Kline2\n"
     ]
    }
   ],
   "source": [
    "results = [[(\"UTC\",\"Kline1\")],[(\"BTC\",\"Kline2\")]]\n",
    "for ex, klines in zip(['binance', 'gateio'], results):\n",
    "    for symbol, kline in klines:\n",
    "        print(ex,symbol,kline)"
   ]
  }
 ],
 "metadata": {
  "kernelspec": {
   "display_name": "Python 3 (ipykernel)",
   "language": "python",
   "name": "python3"
  },
  "language_info": {
   "codemirror_mode": {
    "name": "ipython",
    "version": 3
   },
   "file_extension": ".py",
   "mimetype": "text/x-python",
   "name": "python",
   "nbconvert_exporter": "python",
   "pygments_lexer": "ipython3",
   "version": "3.12.11"
  }
 },
 "nbformat": 4,
 "nbformat_minor": 5
}
