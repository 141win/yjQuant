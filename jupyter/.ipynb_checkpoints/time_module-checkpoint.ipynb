{
 "cells": [
  {
   "cell_type": "code",
   "execution_count": 1,
   "id": "49a954e4-a92d-44ad-8ab8-eefc6ec2fc77",
   "metadata": {},
   "outputs": [
    {
     "name": "stdout",
     "output_type": "stream",
     "text": [
      "<class 'datetime.time'>\n",
      "15:00:00\n",
      "09:42:01.047257\n"
     ]
    }
   ],
   "source": [
    "from datetime import time,datetime\n",
    "DAY_START = time(8, 45)\n",
    "DAY_END = time(15, 0)\n",
    "print(type(DAY_START))\n",
    "print(DAY_END)\n",
    "current_time = datetime.now().time()\n",
    "print(current_time)"
   ]
  },
  {
   "cell_type": "code",
   "execution_count": 6,
   "id": "cca1a439-9ed0-4247-9ee1-8a4ad92900e6",
   "metadata": {},
   "outputs": [
    {
     "data": {
      "text/plain": [
       "(8, 45, 0)"
      ]
     },
     "execution_count": 6,
     "metadata": {},
     "output_type": "execute_result"
    }
   ],
   "source": [
    "hh, mm, ss = map(int, str(DAY_START).split(\":\"))\n",
    "hh,mm,ss"
   ]
  },
  {
   "cell_type": "code",
   "execution_count": 12,
   "id": "e56ad99d-2b50-4211-97d6-7a0bdaa34e56",
   "metadata": {},
   "outputs": [
    {
     "name": "stdout",
     "output_type": "stream",
     "text": [
      "原时间: 2025-08-26 09:58:36.865719\n",
      "修改后: 2025-08-26 09:58:00\n"
     ]
    }
   ],
   "source": [
    "# 给定起始基准秒数\n",
    "# 每次计算下次时间，获取当前时间的时分，然后加上基准秒数，再加上间隔秒数\n",
    "now = datetime.now()\n",
    "# 将秒数修改为30\n",
    "modified_time = now.replace(second=0,microsecond=0)\n",
    "print(f\"原时间: {now}\")\n",
    "print(f\"修改后: {modified_time}\")"
   ]
  }
 ],
 "metadata": {
  "kernelspec": {
   "display_name": "Python 3 (ipykernel)",
   "language": "python",
   "name": "python3"
  },
  "language_info": {
   "codemirror_mode": {
    "name": "ipython",
    "version": 3
   },
   "file_extension": ".py",
   "mimetype": "text/x-python",
   "name": "python",
   "nbconvert_exporter": "python",
   "pygments_lexer": "ipython3",
   "version": "3.12.11"
  }
 },
 "nbformat": 4,
 "nbformat_minor": 5
}
