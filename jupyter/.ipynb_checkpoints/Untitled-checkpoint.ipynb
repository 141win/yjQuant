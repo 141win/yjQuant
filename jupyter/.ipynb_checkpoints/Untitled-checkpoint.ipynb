{
 "cells": [
  {
   "cell_type": "code",
   "execution_count": 20,
   "id": "c898cc42-7b0e-49ec-bfc1-47c16b1c562f",
   "metadata": {},
   "outputs": [],
   "source": [
    "ans =[]\n",
    "with open(\"/yjQuant_v3/pairs/gateio.txt\", \"r\", encoding=\"utf-8\") as f:\n",
    "    for _ in f:\n",
    "        ans.append(_.strip())\n",
    "import json\n",
    "json_string = json.dumps(ans, ensure_ascii=False, indent=4)  #  indent=4是为了美观地显示\n",
    "    # 将 JSON 字符串写入文件\n",
    "with open(\"/yjQuant_v3/pairs/gateio.json\", \"w\", encoding=\"utf-8\") as outfile:\n",
    "    outfile.write(json_string)"
   ]
  }
 ],
 "metadata": {
  "kernelspec": {
   "display_name": "Python 3 (ipykernel)",
   "language": "python",
   "name": "python3"
  },
  "language_info": {
   "codemirror_mode": {
    "name": "ipython",
    "version": 3
   },
   "file_extension": ".py",
   "mimetype": "text/x-python",
   "name": "python",
   "nbconvert_exporter": "python",
   "pygments_lexer": "ipython3",
   "version": "3.12.11"
  }
 },
 "nbformat": 4,
 "nbformat_minor": 5
}
