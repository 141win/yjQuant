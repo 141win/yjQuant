{
 "cells": [
  {
   "cell_type": "code",
   "id": "49a954e4-a92d-44ad-8ab8-eefc6ec2fc77",
   "metadata": {
    "ExecuteTime": {
     "end_time": "2025-09-08T07:43:06.676106Z",
     "start_time": "2025-09-08T07:43:06.668690Z"
    }
   },
   "source": [
    "from datetime import time,datetime\n",
    "DAY_START = time(8, 45)\n",
    "DAY_END = time(15, 0)\n",
    "print(type(DAY_START))\n",
    "print(DAY_END)\n",
    "current_time = datetime.now().time()\n",
    "print(current_time)"
   ],
   "outputs": [
    {
     "name": "stdout",
     "output_type": "stream",
     "text": [
      "<class 'datetime.time'>\n",
      "15:00:00\n",
      "15:43:06.672694\n"
     ]
    }
   ],
   "execution_count": 1
  },
  {
   "cell_type": "code",
   "execution_count": 6,
   "id": "cca1a439-9ed0-4247-9ee1-8a4ad92900e6",
   "metadata": {},
   "outputs": [
    {
     "data": {
      "text/plain": [
       "(8, 45, 0)"
      ]
     },
     "execution_count": 6,
     "metadata": {},
     "output_type": "execute_result"
    }
   ],
   "source": [
    "hh, mm, ss = map(int, str(DAY_START).split(\":\"))\n",
    "hh,mm,ss"
   ]
  },
  {
   "cell_type": "code",
   "execution_count": 3,
   "id": "e56ad99d-2b50-4211-97d6-7a0bdaa34e56",
   "metadata": {},
   "outputs": [
    {
     "name": "stdout",
     "output_type": "stream",
     "text": [
      "原时间: 2025-08-31 13:43:08.335820\n",
      "修改后: 2025-08-31 13:43:00\n"
     ]
    }
   ],
   "source": [
    "# 给定起始基准秒数\n",
    "# 每次计算下次时间，获取当前时间的时分，然后加上基准秒数，再加上间隔秒数\n",
    "now = datetime.now()\n",
    "# 将秒数修改为30\n",
    "modified_time = now.replace(second=0,microsecond=0)\n",
    "print(f\"原时间: {now}\")\n",
    "print(f\"修改后: {modified_time}\")"
   ]
  },
  {
   "cell_type": "code",
   "id": "de2b52b9-52e3-4973-a2ce-772936e0e4b3",
   "metadata": {
    "ExecuteTime": {
     "end_time": "2025-09-11T08:32:25.459119Z",
     "start_time": "2025-09-11T08:32:25.451Z"
    }
   },
   "source": [
    "from datetime import time,datetime\n",
    "timestamp = 1757579407926/1000.0\n",
    "dt = datetime.fromtimestamp(timestamp)\n",
    "    \n",
    "# 格式化为字符串\n",
    "print(dt.strftime(\"%Y-%m-%d %H:%M:%S\"))"
   ],
   "outputs": [
    {
     "name": "stdout",
     "output_type": "stream",
     "text": [
      "2025-09-11 16:30:07\n"
     ]
    }
   ],
   "execution_count": 5
  }
 ],
 "metadata": {
  "kernelspec": {
   "display_name": "Python 3 (ipykernel)",
   "language": "python",
   "name": "python3"
  },
  "language_info": {
   "codemirror_mode": {
    "name": "ipython",
    "version": 3
   },
   "file_extension": ".py",
   "mimetype": "text/x-python",
   "name": "python",
   "nbconvert_exporter": "python",
   "pygments_lexer": "ipython3",
   "version": "3.12.11"
  }
 },
 "nbformat": 4,
 "nbformat_minor": 5
}
